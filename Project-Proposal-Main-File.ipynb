{
 "cells": [
  {
   "cell_type": "markdown",
   "id": "5503b1a6",
   "metadata": {},
   "source": [
    "# Econ 320 Project Proposal\n",
    "### By: Geneveive ___ , Lucas Goldstein, Irene Castro-Cespedes, and Katherine Geiselhart"
   ]
  },
  {
   "cell_type": "markdown",
   "id": "f8d83ffe",
   "metadata": {},
   "source": [
    "### Introduction"
   ]
  },
  {
   "cell_type": "code",
   "execution_count": null,
   "id": "17949d76",
   "metadata": {},
   "outputs": [],
   "source": []
  },
  {
   "cell_type": "markdown",
   "id": "55fb3691",
   "metadata": {},
   "source": [
    "### Table"
   ]
  },
  {
   "cell_type": "markdown",
   "id": "7983b6ea",
   "metadata": {},
   "source": [
    "| **Variable** | **Definition**                              |\n",
    "|--------------|---------------------------------------------|\n",
    "| FAMINC       | Family income of householder                |\n",
    "| FAMSIZE      | Number of own family members in household   |\n",
    "| NFAMS        | Number of families in household             |\n",
    "| NCOUPLES     | Number of couples in household              |\n",
    "| NMOTHERS     | Number of mothers in household              |\n",
    "| NFATHERS     | Number of fathers in household              |\n",
    "| NCHILD       | Number of own children in household         |\n",
    "| NCHLT5       | Number of own children under 5 in household |\n",
    "| ELDCH        | Age of eldest own child in the household    |\n",
    "| YNGCH        | Age of youngest own child in the household  |\n",
    "| Year         | Year the data was collected                 |"
   ]
  },
  {
   "cell_type": "markdown",
   "id": "7db4acb3",
   "metadata": {},
   "source": [
    "### Regression"
   ]
  },
  {
   "cell_type": "markdown",
   "id": "fc99fe5b",
   "metadata": {},
   "source": [
    "$$ FAMINC= \\beta_0 + \\beta_1*FAMSIZE + \\beta_2*NFAMS + \\beta_3*NCOUPLES +  \\beta_4*NMOTHERS +\\beta_5*NFATHERS +\\beta_6*NCHILD +\\beta_7*NCHLT5 +\\beta_8*ELDCH +\\beta_9*YNGCH +\\beta_10*YEAR +  \\mu$$"
   ]
  },
  {
   "cell_type": "code",
   "execution_count": 28,
   "id": "45ad791f",
   "metadata": {},
   "outputs": [
    {
     "name": "stdout",
     "output_type": "stream",
     "text": [
      "   YEAR  SERIAL  MONTH    HWTFINL           CPSID  ASECFLAG  ASECWTH  \\\n",
      "0  2021       1      1  1805.3669  20191100000100       NaN      NaN   \n",
      "1  2021       1      1  1805.3669  20191100000100       NaN      NaN   \n",
      "2  2021       1      1  1805.3669  20191100000100       NaN      NaN   \n",
      "3  2021       2      1  1903.8219  20201100000100       NaN      NaN   \n",
      "4  2021       3      1  2738.9084  20191200000300       NaN      NaN   \n",
      "\n",
      "   HHINCOME  FAMINC  NFAMS  ...  PERNUM     WTFINL           CPSIDV  \\\n",
      "0       NaN     600      2  ...       1  1805.3669  201911000001011   \n",
      "1       NaN     600      2  ...       2  2336.9526  201911000001021   \n",
      "2       NaN     600      2  ...       3  2129.3099  201911000001031   \n",
      "3       NaN     740      1  ...       1  1903.8219  202011000001012   \n",
      "4       NaN     710      1  ...       1  1570.4995  201912000003011   \n",
      "\n",
      "           CPSIDP  ASECWT  FAMSIZE  NCHILD  NCHLT5  ELDCH  YNGCH  \n",
      "0  20191100000101     NaN        2       1       0     22     22  \n",
      "1  20191100000102     NaN        2       0       0     99     99  \n",
      "2  20191100000103     NaN        1       0       0     99     99  \n",
      "3  20201100000101     NaN        1       0       0     99     99  \n",
      "4  20191200000301     NaN        3       1       0     16     16  \n",
      "\n",
      "[5 rows x 23 columns]\n",
      "0         NaN\n",
      "1         NaN\n",
      "2         NaN\n",
      "3         NaN\n",
      "4         NaN\n",
      "           ..\n",
      "3597080   NaN\n",
      "3597081   NaN\n",
      "3597082   NaN\n",
      "3597083   NaN\n",
      "3597084   NaN\n",
      "Name: HHINCOME, Length: 3597085, dtype: float64\n"
     ]
    }
   ],
   "source": [
    "import pandas as pd\n",
    "\n",
    "csv_file_path = r\"C:\\Users\\lucas\\Downloads\\cps_00002.csv\\cps_00002.csv\"\n",
    "\n",
    "df = pd.read_csv(csv_file_path)\n",
    "\n",
    "print(df.head())\n",
    "print(df.HHINCOME)"
   ]
  },
  {
   "cell_type": "code",
   "execution_count": 14,
   "id": "3f0d1223",
   "metadata": {},
   "outputs": [],
   "source": [
    "import statsmodels.api as sm"
   ]
  },
  {
   "cell_type": "code",
   "execution_count": 32,
   "id": "7446430d",
   "metadata": {},
   "outputs": [],
   "source": [
    "X = df[['FAMSIZE', 'NFAMS', 'NCOUPLES', 'NMOTHERS', 'NFATHERS', 'NCHILD', 'NCHLT5', 'ELDCH', 'YNGCH', 'YEAR']]\n",
    "Y = df['FAMINC']"
   ]
  },
  {
   "cell_type": "code",
   "execution_count": 33,
   "id": "f9558b44",
   "metadata": {},
   "outputs": [
    {
     "name": "stdout",
     "output_type": "stream",
     "text": [
      "                            OLS Regression Results                            \n",
      "==============================================================================\n",
      "Dep. Variable:                 FAMINC   R-squared:                       0.105\n",
      "Model:                            OLS   Adj. R-squared:                  0.105\n",
      "Method:                 Least Squares   F-statistic:                 4.220e+04\n",
      "Date:                Fri, 29 Sep 2023   Prob (F-statistic):               0.00\n",
      "Time:                        15:14:03   Log-Likelihood:            -2.2956e+07\n",
      "No. Observations:             3597085   AIC:                         4.591e+07\n",
      "Df Residuals:                 3597074   BIC:                         4.591e+07\n",
      "Df Model:                          10                                         \n",
      "Covariance Type:            nonrobust                                         \n",
      "==============================================================================\n",
      "                 coef    std err          t      P>|t|      [0.025      0.975]\n",
      "------------------------------------------------------------------------------\n",
      "const      -1.149e+04    195.403    -58.820      0.000   -1.19e+04   -1.11e+04\n",
      "FAMSIZE       -3.6994      0.085    -43.594      0.000      -3.866      -3.533\n",
      "NFAMS         -3.3946      0.189    -17.984      0.000      -3.765      -3.025\n",
      "NCOUPLES      88.1297      0.191    461.836      0.000      87.756      88.504\n",
      "NMOTHERS      -2.2799      0.227    -10.022      0.000      -2.726      -1.834\n",
      "NFATHERS      27.9933      0.237    117.898      0.000      27.528      28.459\n",
      "NCHILD         3.8031      0.225     16.879      0.000       3.361       4.245\n",
      "NCHLT5       -13.4694      0.247    -54.572      0.000     -13.953     -12.986\n",
      "ELDCH         -0.8510      0.046    -18.334      0.000      -0.942      -0.760\n",
      "YNGCH          0.8040      0.048     16.757      0.000       0.710       0.898\n",
      "YEAR           6.0317      0.097     62.413      0.000       5.842       6.221\n",
      "==============================================================================\n",
      "Omnibus:                  1783806.058   Durbin-Watson:                   0.954\n",
      "Prob(Omnibus):                  0.000   Jarque-Bera (JB):         10205380.503\n",
      "Skew:                          -2.406   Prob(JB):                         0.00\n",
      "Kurtosis:                       9.703   Cond. No.                     5.25e+06\n",
      "==============================================================================\n",
      "\n",
      "Notes:\n",
      "[1] Standard Errors assume that the covariance matrix of the errors is correctly specified.\n",
      "[2] The condition number is large, 5.25e+06. This might indicate that there are\n",
      "strong multicollinearity or other numerical problems.\n"
     ]
    }
   ],
   "source": [
    "df.fillna(df.mean(), inplace=True)\n",
    "X = sm.add_constant(X)\n",
    "model = sm.OLS(Y, X).fit()\n",
    "print(model.summary())\n"
   ]
  },
  {
   "cell_type": "code",
   "execution_count": null,
   "id": "3491cdd6",
   "metadata": {},
   "outputs": [],
   "source": [
    "\n"
   ]
  },
  {
   "cell_type": "code",
   "execution_count": null,
   "id": "1f194d52",
   "metadata": {},
   "outputs": [],
   "source": [
    "Mean)"
   ]
  },
  {
   "cell_type": "markdown",
   "id": "cb053e93",
   "metadata": {},
   "source": [
    "### Comments and Ideas"
   ]
  },
  {
   "cell_type": "code",
   "execution_count": null,
   "id": "589649ca",
   "metadata": {},
   "outputs": [],
   "source": []
  }
 ],
 "metadata": {
  "kernelspec": {
   "display_name": "Python 3 (ipykernel)",
   "language": "python",
   "name": "python3"
  },
  "language_info": {
   "codemirror_mode": {
    "name": "ipython",
    "version": 3
   },
   "file_extension": ".py",
   "mimetype": "text/x-python",
   "name": "python",
   "nbconvert_exporter": "python",
   "pygments_lexer": "ipython3",
   "version": "3.9.13"
  }
 },
 "nbformat": 4,
 "nbformat_minor": 5
}
